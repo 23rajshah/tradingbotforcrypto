{
  "nbformat": 4,
  "nbformat_minor": 0,
  "metadata": {
    "colab": {
      "name": "AI-ML 5.ipynb",
      "provenance": []
    },
    "kernelspec": {
      "name": "python3",
      "display_name": "Python 3"
    },
    "language_info": {
      "name": "python"
    }
  },
  "cells": [
    {
      "cell_type": "code",
      "metadata": {
        "colab": {
          "base_uri": "https://localhost:8080/",
          "height": 973
        },
        "id": "ihXQ4vDeA0BV",
        "outputId": "ee17f82c-5c70-40ea-dc62-e2fd29503fd5"
      },
      "source": [
        "!pip install cbpro"
      ],
      "execution_count": null,
      "outputs": [
        {
          "output_type": "stream",
          "name": "stdout",
          "text": [
            "Collecting cbpro\n",
            "  Downloading cbpro-1.1.4-py2.py3-none-any.whl (35 kB)\n",
            "Collecting websocket-client==0.40.0\n",
            "  Downloading websocket_client-0.40.0.tar.gz (196 kB)\n",
            "\u001b[K     |████████████████████████████████| 196 kB 11.4 MB/s \n",
            "\u001b[?25hCollecting six==1.10.0\n",
            "  Downloading six-1.10.0-py2.py3-none-any.whl (10 kB)\n",
            "Collecting requests==2.13.0\n",
            "  Downloading requests-2.13.0-py2.py3-none-any.whl (584 kB)\n",
            "\u001b[K     |████████████████████████████████| 584 kB 50.0 MB/s \n",
            "\u001b[?25hRequirement already satisfied: sortedcontainers>=1.5.9 in /usr/local/lib/python3.7/dist-packages (from cbpro) (2.4.0)\n",
            "Collecting pymongo==3.5.1\n",
            "  Downloading pymongo-3.5.1.tar.gz (1.3 MB)\n",
            "\u001b[K     |████████████████████████████████| 1.3 MB 53.7 MB/s \n",
            "\u001b[?25hBuilding wheels for collected packages: pymongo, websocket-client\n",
            "  Building wheel for pymongo (setup.py) ... \u001b[?25l\u001b[?25hdone\n",
            "  Created wheel for pymongo: filename=pymongo-3.5.1-cp37-cp37m-linux_x86_64.whl size=362226 sha256=419f13d62e1281e0e48e0208995811c48c45b5cdb04026562a9ee1b938020252\n",
            "  Stored in directory: /root/.cache/pip/wheels/96/bd/a9/81eacd9925ebaa01c560bbe29d42a0e1b678bcfb6247e9e3be\n",
            "  Building wheel for websocket-client (setup.py) ... \u001b[?25l\u001b[?25hdone\n",
            "  Created wheel for websocket-client: filename=websocket_client-0.40.0-py2.py3-none-any.whl size=198296 sha256=8cb2d1f0b24f609d1e911411d2f1b75dcc2a65faf5245a646cdac2704c8f1e4a\n",
            "  Stored in directory: /root/.cache/pip/wheels/e6/5d/9f/08e61891b49b66109f5e7f4760c882a24bb710e8b7391df76d\n",
            "Successfully built pymongo websocket-client\n",
            "Installing collected packages: six, websocket-client, requests, pymongo, cbpro\n",
            "  Attempting uninstall: six\n",
            "    Found existing installation: six 1.15.0\n",
            "    Uninstalling six-1.15.0:\n",
            "      Successfully uninstalled six-1.15.0\n",
            "  Attempting uninstall: requests\n",
            "    Found existing installation: requests 2.23.0\n",
            "    Uninstalling requests-2.23.0:\n",
            "      Successfully uninstalled requests-2.23.0\n",
            "  Attempting uninstall: pymongo\n",
            "    Found existing installation: pymongo 3.12.0\n",
            "    Uninstalling pymongo-3.12.0:\n",
            "      Successfully uninstalled pymongo-3.12.0\n",
            "\u001b[31mERROR: pip's dependency resolver does not currently take into account all the packages that are installed. This behaviour is the source of the following dependency conflicts.\n",
            "tensorflow 2.6.0 requires six~=1.15.0, but you have six 1.10.0 which is incompatible.\n",
            "tensorflow-datasets 4.0.1 requires requests>=2.19.0, but you have requests 2.13.0 which is incompatible.\n",
            "tensorboard 2.6.0 requires requests<3,>=2.21.0, but you have requests 2.13.0 which is incompatible.\n",
            "pandas-datareader 0.9.0 requires requests>=2.19.0, but you have requests 2.13.0 which is incompatible.\n",
            "google-colab 1.0.0 requires requests~=2.23.0, but you have requests 2.13.0 which is incompatible.\n",
            "google-colab 1.0.0 requires six~=1.15.0, but you have six 1.10.0 which is incompatible.\n",
            "google-api-python-client 1.12.8 requires six<2dev,>=1.13.0, but you have six 1.10.0 which is incompatible.\n",
            "google-api-core 1.26.3 requires requests<3.0.0dev,>=2.18.0, but you have requests 2.13.0 which is incompatible.\n",
            "google-api-core 1.26.3 requires six>=1.13.0, but you have six 1.10.0 which is incompatible.\n",
            "dm-tree 0.1.6 requires six>=1.12.0, but you have six 1.10.0 which is incompatible.\n",
            "datascience 0.10.6 requires folium==0.2.1, but you have folium 0.8.3 which is incompatible.\n",
            "albumentations 0.1.12 requires imgaug<0.2.7,>=0.2.5, but you have imgaug 0.2.9 which is incompatible.\u001b[0m\n",
            "Successfully installed cbpro-1.1.4 pymongo-3.5.1 requests-2.13.0 six-1.10.0 websocket-client-0.40.0\n"
          ]
        },
        {
          "output_type": "display_data",
          "data": {
            "application/vnd.colab-display-data+json": {
              "pip_warning": {
                "packages": [
                  "six"
                ]
              }
            }
          },
          "metadata": {}
        }
      ]
    },
    {
      "cell_type": "code",
      "metadata": {
        "id": "Hox5o7FxBHDj"
      },
      "source": [
        "import cbpro"
      ],
      "execution_count": null,
      "outputs": []
    },
    {
      "cell_type": "code",
      "metadata": {
        "id": "1jABQIM2Nwip"
      },
      "source": [
        "public='157fb0e81b6149e379e3f490d0df2a56'\n",
        "passphrase='kui6tbg8ek'\n",
        "secret='ZLvQ2viJJGKYAVwVEfETi3m7eWT+VpTlAZvG5PSLI9Yev/w4ubwNCl5W5mEkcQJ+P1PXWBdgBRLqPyq8HYJR3Q=='"
      ],
      "execution_count": null,
      "outputs": []
    },
    {
      "cell_type": "code",
      "metadata": {
        "id": "hvWGvsDMCF1m"
      },
      "source": [
        "url = 'https://api-public.sandbox.pro.coinbase.com'\n",
        "client = cbpro.AuthenticatedClient(\n",
        "    public,\n",
        "    secret,\n",
        "    passphrase, \n",
        "    api_url=url)"
      ],
      "execution_count": null,
      "outputs": []
    },
    {
      "cell_type": "code",
      "metadata": {
        "id": "hNA5XDLsQFWa"
      },
      "source": [
        "import time"
      ],
      "execution_count": null,
      "outputs": []
    },
    {
      "cell_type": "code",
      "metadata": {
        "id": "jDTTJYfOR2Cd"
      },
      "source": [
        "sell_price= 3000\n",
        "sell_amount= 0.3"
      ],
      "execution_count": null,
      "outputs": []
    },
    {
      "cell_type": "code",
      "metadata": {
        "id": "crIbbDtBSDyf"
      },
      "source": [
        "buy_price= 25000\n",
        "sell_amount=0.2"
      ],
      "execution_count": null,
      "outputs": []
    },
    {
      "cell_type": "code",
      "metadata": {
        "colab": {
          "base_uri": "https://localhost:8080/",
          "height": 235
        },
        "id": "iIlNK2EKSJp7",
        "outputId": "c058e232-0b25-4ca6-955c-fd93418f0947"
      },
      "source": [
        "while True:\n",
        "  price = float(client.get_product_ticker(product_id=\"BTC-EUR\")['price'])\n",
        "  if price <= buy_price:\n",
        "    print(\"Buying BTC\")\n",
        "    client.buy(size=buy_amount, order_type=\"market\",product_id=\"BTC-EUR\")\n",
        "  elif price >= sell_price:\n",
        "    print(\"Selling BTC\")\n",
        "    client.sell(size=sell_amount, order_type=\"market\", product_id=\"BTC-EUR\")\n",
        "  else :\n",
        "    print(\"Nothing price is {price:,}\")\n",
        "  time.sleep(10) "
      ],
      "execution_count": null,
      "outputs": [
        {
          "output_type": "stream",
          "name": "stdout",
          "text": [
            "Selling BTC\n",
            "Selling BTC\n"
          ]
        },
        {
          "output_type": "error",
          "ename": "KeyboardInterrupt",
          "evalue": "ignored",
          "traceback": [
            "\u001b[0;31m---------------------------------------------------------------------------\u001b[0m",
            "\u001b[0;31mKeyboardInterrupt\u001b[0m                         Traceback (most recent call last)",
            "\u001b[0;32m<ipython-input-26-a326808ff277>\u001b[0m in \u001b[0;36m<module>\u001b[0;34m()\u001b[0m\n\u001b[1;32m      9\u001b[0m   \u001b[0;32melse\u001b[0m \u001b[0;34m:\u001b[0m\u001b[0;34m\u001b[0m\u001b[0;34m\u001b[0m\u001b[0m\n\u001b[1;32m     10\u001b[0m     \u001b[0mprint\u001b[0m\u001b[0;34m(\u001b[0m\u001b[0;34m\"Nothing price is {price:,}\"\u001b[0m\u001b[0;34m)\u001b[0m\u001b[0;34m\u001b[0m\u001b[0;34m\u001b[0m\u001b[0m\n\u001b[0;32m---> 11\u001b[0;31m   \u001b[0mtime\u001b[0m\u001b[0;34m.\u001b[0m\u001b[0msleep\u001b[0m\u001b[0;34m(\u001b[0m\u001b[0;36m10\u001b[0m\u001b[0;34m)\u001b[0m\u001b[0;34m\u001b[0m\u001b[0;34m\u001b[0m\u001b[0m\n\u001b[0m",
            "\u001b[0;31mKeyboardInterrupt\u001b[0m: "
          ]
        }
      ]
    },
    {
      "cell_type": "code",
      "metadata": {
        "id": "3H19TKt_TDzW",
        "colab": {
          "base_uri": "https://localhost:8080/"
        },
        "outputId": "be6086a7-4850-448e-99ab-3f5d3ec24165"
      },
      "source": [
        "!pip install -q pyngrok\n",
        "!pip install -q streamlit\n",
        "!pip install -q streamlit_ace"
      ],
      "execution_count": null,
      "outputs": [
        {
          "output_type": "stream",
          "name": "stdout",
          "text": [
            "\u001b[?25l\r\u001b[K     |▏                               | 10 kB 20.9 MB/s eta 0:00:01\r\u001b[K     |▎                               | 20 kB 26.0 MB/s eta 0:00:01\r\u001b[K     |▍                               | 30 kB 25.4 MB/s eta 0:00:01\r\u001b[K     |▌                               | 40 kB 20.2 MB/s eta 0:00:01\r\u001b[K     |▋                               | 51 kB 7.4 MB/s eta 0:00:01\r\u001b[K     |▊                               | 61 kB 7.6 MB/s eta 0:00:01\r\u001b[K     |▉                               | 71 kB 6.7 MB/s eta 0:00:01\r\u001b[K     |█                               | 81 kB 7.5 MB/s eta 0:00:01\r\u001b[K     |█▏                              | 92 kB 8.0 MB/s eta 0:00:01\r\u001b[K     |█▎                              | 102 kB 6.8 MB/s eta 0:00:01\r\u001b[K     |█▍                              | 112 kB 6.8 MB/s eta 0:00:01\r\u001b[K     |█▌                              | 122 kB 6.8 MB/s eta 0:00:01\r\u001b[K     |█▋                              | 133 kB 6.8 MB/s eta 0:00:01\r\u001b[K     |█▊                              | 143 kB 6.8 MB/s eta 0:00:01\r\u001b[K     |██                              | 153 kB 6.8 MB/s eta 0:00:01\r\u001b[K     |██                              | 163 kB 6.8 MB/s eta 0:00:01\r\u001b[K     |██▏                             | 174 kB 6.8 MB/s eta 0:00:01\r\u001b[K     |██▎                             | 184 kB 6.8 MB/s eta 0:00:01\r\u001b[K     |██▍                             | 194 kB 6.8 MB/s eta 0:00:01\r\u001b[K     |██▌                             | 204 kB 6.8 MB/s eta 0:00:01\r\u001b[K     |██▋                             | 215 kB 6.8 MB/s eta 0:00:01\r\u001b[K     |██▊                             | 225 kB 6.8 MB/s eta 0:00:01\r\u001b[K     |███                             | 235 kB 6.8 MB/s eta 0:00:01\r\u001b[K     |███                             | 245 kB 6.8 MB/s eta 0:00:01\r\u001b[K     |███▏                            | 256 kB 6.8 MB/s eta 0:00:01\r\u001b[K     |███▎                            | 266 kB 6.8 MB/s eta 0:00:01\r\u001b[K     |███▍                            | 276 kB 6.8 MB/s eta 0:00:01\r\u001b[K     |███▌                            | 286 kB 6.8 MB/s eta 0:00:01\r\u001b[K     |███▋                            | 296 kB 6.8 MB/s eta 0:00:01\r\u001b[K     |███▉                            | 307 kB 6.8 MB/s eta 0:00:01\r\u001b[K     |████                            | 317 kB 6.8 MB/s eta 0:00:01\r\u001b[K     |████                            | 327 kB 6.8 MB/s eta 0:00:01\r\u001b[K     |████▏                           | 337 kB 6.8 MB/s eta 0:00:01\r\u001b[K     |████▎                           | 348 kB 6.8 MB/s eta 0:00:01\r\u001b[K     |████▍                           | 358 kB 6.8 MB/s eta 0:00:01\r\u001b[K     |████▌                           | 368 kB 6.8 MB/s eta 0:00:01\r\u001b[K     |████▊                           | 378 kB 6.8 MB/s eta 0:00:01\r\u001b[K     |████▉                           | 389 kB 6.8 MB/s eta 0:00:01\r\u001b[K     |█████                           | 399 kB 6.8 MB/s eta 0:00:01\r\u001b[K     |█████                           | 409 kB 6.8 MB/s eta 0:00:01\r\u001b[K     |█████▏                          | 419 kB 6.8 MB/s eta 0:00:01\r\u001b[K     |█████▎                          | 430 kB 6.8 MB/s eta 0:00:01\r\u001b[K     |█████▍                          | 440 kB 6.8 MB/s eta 0:00:01\r\u001b[K     |█████▌                          | 450 kB 6.8 MB/s eta 0:00:01\r\u001b[K     |█████▊                          | 460 kB 6.8 MB/s eta 0:00:01\r\u001b[K     |█████▉                          | 471 kB 6.8 MB/s eta 0:00:01\r\u001b[K     |██████                          | 481 kB 6.8 MB/s eta 0:00:01\r\u001b[K     |██████                          | 491 kB 6.8 MB/s eta 0:00:01\r\u001b[K     |██████▏                         | 501 kB 6.8 MB/s eta 0:00:01\r\u001b[K     |██████▎                         | 512 kB 6.8 MB/s eta 0:00:01\r\u001b[K     |██████▍                         | 522 kB 6.8 MB/s eta 0:00:01\r\u001b[K     |██████▋                         | 532 kB 6.8 MB/s eta 0:00:01\r\u001b[K     |██████▊                         | 542 kB 6.8 MB/s eta 0:00:01\r\u001b[K     |██████▉                         | 552 kB 6.8 MB/s eta 0:00:01\r\u001b[K     |███████                         | 563 kB 6.8 MB/s eta 0:00:01\r\u001b[K     |███████                         | 573 kB 6.8 MB/s eta 0:00:01\r\u001b[K     |███████▏                        | 583 kB 6.8 MB/s eta 0:00:01\r\u001b[K     |███████▎                        | 593 kB 6.8 MB/s eta 0:00:01\r\u001b[K     |███████▌                        | 604 kB 6.8 MB/s eta 0:00:01\r\u001b[K     |███████▋                        | 614 kB 6.8 MB/s eta 0:00:01\r\u001b[K     |███████▊                        | 624 kB 6.8 MB/s eta 0:00:01\r\u001b[K     |███████▉                        | 634 kB 6.8 MB/s eta 0:00:01\r\u001b[K     |████████                        | 645 kB 6.8 MB/s eta 0:00:01\r\u001b[K     |████████                        | 655 kB 6.8 MB/s eta 0:00:01\r\u001b[K     |████████▏                       | 665 kB 6.8 MB/s eta 0:00:01\r\u001b[K     |████████▎                       | 675 kB 6.8 MB/s eta 0:00:01\r\u001b[K     |████████▌                       | 686 kB 6.8 MB/s eta 0:00:01\r\u001b[K     |████████▋                       | 696 kB 6.8 MB/s eta 0:00:01\r\u001b[K     |████████▊                       | 706 kB 6.8 MB/s eta 0:00:01\r\u001b[K     |████████▉                       | 716 kB 6.8 MB/s eta 0:00:01\r\u001b[K     |█████████                       | 727 kB 6.8 MB/s eta 0:00:01\r\u001b[K     |█████████                       | 737 kB 6.8 MB/s eta 0:00:01\r\u001b[K     |█████████▏                      | 747 kB 6.8 MB/s eta 0:00:01\r\u001b[K     |█████████▍                      | 757 kB 6.8 MB/s eta 0:00:01\r\u001b[K     |█████████▌                      | 768 kB 6.8 MB/s eta 0:00:01\r\u001b[K     |█████████▋                      | 778 kB 6.8 MB/s eta 0:00:01\r\u001b[K     |█████████▊                      | 788 kB 6.8 MB/s eta 0:00:01\r\u001b[K     |█████████▉                      | 798 kB 6.8 MB/s eta 0:00:01\r\u001b[K     |██████████                      | 808 kB 6.8 MB/s eta 0:00:01\r\u001b[K     |██████████                      | 819 kB 6.8 MB/s eta 0:00:01\r\u001b[K     |██████████▎                     | 829 kB 6.8 MB/s eta 0:00:01\r\u001b[K     |██████████▍                     | 839 kB 6.8 MB/s eta 0:00:01\r\u001b[K     |██████████▌                     | 849 kB 6.8 MB/s eta 0:00:01\r\u001b[K     |██████████▋                     | 860 kB 6.8 MB/s eta 0:00:01\r\u001b[K     |██████████▊                     | 870 kB 6.8 MB/s eta 0:00:01\r\u001b[K     |██████████▉                     | 880 kB 6.8 MB/s eta 0:00:01\r\u001b[K     |███████████                     | 890 kB 6.8 MB/s eta 0:00:01\r\u001b[K     |███████████                     | 901 kB 6.8 MB/s eta 0:00:01\r\u001b[K     |███████████▎                    | 911 kB 6.8 MB/s eta 0:00:01\r\u001b[K     |███████████▍                    | 921 kB 6.8 MB/s eta 0:00:01\r\u001b[K     |███████████▌                    | 931 kB 6.8 MB/s eta 0:00:01\r\u001b[K     |███████████▋                    | 942 kB 6.8 MB/s eta 0:00:01\r\u001b[K     |███████████▊                    | 952 kB 6.8 MB/s eta 0:00:01\r\u001b[K     |███████████▉                    | 962 kB 6.8 MB/s eta 0:00:01\r\u001b[K     |████████████                    | 972 kB 6.8 MB/s eta 0:00:01\r\u001b[K     |████████████▏                   | 983 kB 6.8 MB/s eta 0:00:01\r\u001b[K     |████████████▎                   | 993 kB 6.8 MB/s eta 0:00:01\r\u001b[K     |████████████▍                   | 1.0 MB 6.8 MB/s eta 0:00:01\r\u001b[K     |████████████▌                   | 1.0 MB 6.8 MB/s eta 0:00:01\r\u001b[K     |████████████▋                   | 1.0 MB 6.8 MB/s eta 0:00:01\r\u001b[K     |████████████▊                   | 1.0 MB 6.8 MB/s eta 0:00:01\r\u001b[K     |████████████▉                   | 1.0 MB 6.8 MB/s eta 0:00:01\r\u001b[K     |█████████████                   | 1.1 MB 6.8 MB/s eta 0:00:01\r\u001b[K     |█████████████▏                  | 1.1 MB 6.8 MB/s eta 0:00:01\r\u001b[K     |█████████████▎                  | 1.1 MB 6.8 MB/s eta 0:00:01\r\u001b[K     |█████████████▍                  | 1.1 MB 6.8 MB/s eta 0:00:01\r\u001b[K     |█████████████▌                  | 1.1 MB 6.8 MB/s eta 0:00:01\r\u001b[K     |█████████████▋                  | 1.1 MB 6.8 MB/s eta 0:00:01\r\u001b[K     |█████████████▊                  | 1.1 MB 6.8 MB/s eta 0:00:01\r\u001b[K     |█████████████▉                  | 1.1 MB 6.8 MB/s eta 0:00:01\r\u001b[K     |██████████████                  | 1.1 MB 6.8 MB/s eta 0:00:01\r\u001b[K     |██████████████▏                 | 1.1 MB 6.8 MB/s eta 0:00:01\r\u001b[K     |██████████████▎                 | 1.2 MB 6.8 MB/s eta 0:00:01\r\u001b[K     |██████████████▍                 | 1.2 MB 6.8 MB/s eta 0:00:01\r\u001b[K     |██████████████▌                 | 1.2 MB 6.8 MB/s eta 0:00:01\r\u001b[K     |██████████████▋                 | 1.2 MB 6.8 MB/s eta 0:00:01\r\u001b[K     |██████████████▊                 | 1.2 MB 6.8 MB/s eta 0:00:01\r\u001b[K     |███████████████                 | 1.2 MB 6.8 MB/s eta 0:00:01\r\u001b[K     |███████████████                 | 1.2 MB 6.8 MB/s eta 0:00:01\r\u001b[K     |███████████████▏                | 1.2 MB 6.8 MB/s eta 0:00:01\r\u001b[K     |███████████████▎                | 1.2 MB 6.8 MB/s eta 0:00:01\r\u001b[K     |███████████████▍                | 1.2 MB 6.8 MB/s eta 0:00:01\r\u001b[K     |███████████████▌                | 1.3 MB 6.8 MB/s eta 0:00:01\r\u001b[K     |███████████████▋                | 1.3 MB 6.8 MB/s eta 0:00:01\r\u001b[K     |███████████████▉                | 1.3 MB 6.8 MB/s eta 0:00:01\r\u001b[K     |████████████████                | 1.3 MB 6.8 MB/s eta 0:00:01\r\u001b[K     |████████████████                | 1.3 MB 6.8 MB/s eta 0:00:01\r\u001b[K     |████████████████▏               | 1.3 MB 6.8 MB/s eta 0:00:01\r\u001b[K     |████████████████▎               | 1.3 MB 6.8 MB/s eta 0:00:01\r\u001b[K     |████████████████▍               | 1.3 MB 6.8 MB/s eta 0:00:01\r\u001b[K     |████████████████▌               | 1.3 MB 6.8 MB/s eta 0:00:01\r\u001b[K     |████████████████▋               | 1.4 MB 6.8 MB/s eta 0:00:01\r\u001b[K     |████████████████▉               | 1.4 MB 6.8 MB/s eta 0:00:01\r\u001b[K     |█████████████████               | 1.4 MB 6.8 MB/s eta 0:00:01\r\u001b[K     |█████████████████               | 1.4 MB 6.8 MB/s eta 0:00:01\r\u001b[K     |█████████████████▏              | 1.4 MB 6.8 MB/s eta 0:00:01\r\u001b[K     |█████████████████▎              | 1.4 MB 6.8 MB/s eta 0:00:01\r\u001b[K     |█████████████████▍              | 1.4 MB 6.8 MB/s eta 0:00:01\r\u001b[K     |█████████████████▌              | 1.4 MB 6.8 MB/s eta 0:00:01\r\u001b[K     |█████████████████▊              | 1.4 MB 6.8 MB/s eta 0:00:01\r\u001b[K     |█████████████████▉              | 1.4 MB 6.8 MB/s eta 0:00:01\r\u001b[K     |██████████████████              | 1.5 MB 6.8 MB/s eta 0:00:01\r\u001b[K     |██████████████████              | 1.5 MB 6.8 MB/s eta 0:00:01\r\u001b[K     |██████████████████▏             | 1.5 MB 6.8 MB/s eta 0:00:01\r\u001b[K     |██████████████████▎             | 1.5 MB 6.8 MB/s eta 0:00:01\r\u001b[K     |██████████████████▍             | 1.5 MB 6.8 MB/s eta 0:00:01\r\u001b[K     |██████████████████▋             | 1.5 MB 6.8 MB/s eta 0:00:01\r\u001b[K     |██████████████████▊             | 1.5 MB 6.8 MB/s eta 0:00:01\r\u001b[K     |██████████████████▉             | 1.5 MB 6.8 MB/s eta 0:00:01\r\u001b[K     |███████████████████             | 1.5 MB 6.8 MB/s eta 0:00:01\r\u001b[K     |███████████████████             | 1.5 MB 6.8 MB/s eta 0:00:01\r\u001b[K     |███████████████████▏            | 1.6 MB 6.8 MB/s eta 0:00:01\r\u001b[K     |███████████████████▎            | 1.6 MB 6.8 MB/s eta 0:00:01\r\u001b[K     |███████████████████▍            | 1.6 MB 6.8 MB/s eta 0:00:01\r\u001b[K     |███████████████████▋            | 1.6 MB 6.8 MB/s eta 0:00:01\r\u001b[K     |███████████████████▊            | 1.6 MB 6.8 MB/s eta 0:00:01\r\u001b[K     |███████████████████▉            | 1.6 MB 6.8 MB/s eta 0:00:01\r\u001b[K     |████████████████████            | 1.6 MB 6.8 MB/s eta 0:00:01\r\u001b[K     |████████████████████            | 1.6 MB 6.8 MB/s eta 0:00:01\r\u001b[K     |████████████████████▏           | 1.6 MB 6.8 MB/s eta 0:00:01\r\u001b[K     |████████████████████▎           | 1.6 MB 6.8 MB/s eta 0:00:01\r\u001b[K     |████████████████████▌           | 1.7 MB 6.8 MB/s eta 0:00:01\r\u001b[K     |████████████████████▋           | 1.7 MB 6.8 MB/s eta 0:00:01\r\u001b[K     |████████████████████▊           | 1.7 MB 6.8 MB/s eta 0:00:01\r\u001b[K     |████████████████████▉           | 1.7 MB 6.8 MB/s eta 0:00:01\r\u001b[K     |█████████████████████           | 1.7 MB 6.8 MB/s eta 0:00:01\r\u001b[K     |█████████████████████           | 1.7 MB 6.8 MB/s eta 0:00:01\r\u001b[K     |█████████████████████▏          | 1.7 MB 6.8 MB/s eta 0:00:01\r\u001b[K     |█████████████████████▎          | 1.7 MB 6.8 MB/s eta 0:00:01\r\u001b[K     |█████████████████████▌          | 1.7 MB 6.8 MB/s eta 0:00:01\r\u001b[K     |█████████████████████▋          | 1.8 MB 6.8 MB/s eta 0:00:01\r\u001b[K     |█████████████████████▊          | 1.8 MB 6.8 MB/s eta 0:00:01\r\u001b[K     |█████████████████████▉          | 1.8 MB 6.8 MB/s eta 0:00:01\r\u001b[K     |██████████████████████          | 1.8 MB 6.8 MB/s eta 0:00:01\r\u001b[K     |██████████████████████          | 1.8 MB 6.8 MB/s eta 0:00:01\r\u001b[K     |██████████████████████▏         | 1.8 MB 6.8 MB/s eta 0:00:01\r\u001b[K     |██████████████████████▍         | 1.8 MB 6.8 MB/s eta 0:00:01\r\u001b[K     |██████████████████████▌         | 1.8 MB 6.8 MB/s eta 0:00:01\r\u001b[K     |██████████████████████▋         | 1.8 MB 6.8 MB/s eta 0:00:01\r\u001b[K     |██████████████████████▊         | 1.8 MB 6.8 MB/s eta 0:00:01\r\u001b[K     |██████████████████████▉         | 1.9 MB 6.8 MB/s eta 0:00:01\r\u001b[K     |███████████████████████         | 1.9 MB 6.8 MB/s eta 0:00:01\r\u001b[K     |███████████████████████         | 1.9 MB 6.8 MB/s eta 0:00:01\r\u001b[K     |███████████████████████▎        | 1.9 MB 6.8 MB/s eta 0:00:01\r\u001b[K     |███████████████████████▍        | 1.9 MB 6.8 MB/s eta 0:00:01\r\u001b[K     |███████████████████████▌        | 1.9 MB 6.8 MB/s eta 0:00:01\r\u001b[K     |███████████████████████▋        | 1.9 MB 6.8 MB/s eta 0:00:01\r\u001b[K     |███████████████████████▊        | 1.9 MB 6.8 MB/s eta 0:00:01\r\u001b[K     |███████████████████████▉        | 1.9 MB 6.8 MB/s eta 0:00:01\r\u001b[K     |████████████████████████        | 1.9 MB 6.8 MB/s eta 0:00:01\r\u001b[K     |████████████████████████        | 2.0 MB 6.8 MB/s eta 0:00:01\r\u001b[K     |████████████████████████▎       | 2.0 MB 6.8 MB/s eta 0:00:01\r\u001b[K     |████████████████████████▍       | 2.0 MB 6.8 MB/s eta 0:00:01\r\u001b[K     |████████████████████████▌       | 2.0 MB 6.8 MB/s eta 0:00:01\r\u001b[K     |████████████████████████▋       | 2.0 MB 6.8 MB/s eta 0:00:01\r\u001b[K     |████████████████████████▊       | 2.0 MB 6.8 MB/s eta 0:00:01\r\u001b[K     |████████████████████████▉       | 2.0 MB 6.8 MB/s eta 0:00:01\r\u001b[K     |█████████████████████████       | 2.0 MB 6.8 MB/s eta 0:00:01\r\u001b[K     |█████████████████████████▏      | 2.0 MB 6.8 MB/s eta 0:00:01\r\u001b[K     |█████████████████████████▎      | 2.0 MB 6.8 MB/s eta 0:00:01\r\u001b[K     |█████████████████████████▍      | 2.1 MB 6.8 MB/s eta 0:00:01\r\u001b[K     |█████████████████████████▌      | 2.1 MB 6.8 MB/s eta 0:00:01\r\u001b[K     |█████████████████████████▋      | 2.1 MB 6.8 MB/s eta 0:00:01\r\u001b[K     |█████████████████████████▊      | 2.1 MB 6.8 MB/s eta 0:00:01\r\u001b[K     |█████████████████████████▉      | 2.1 MB 6.8 MB/s eta 0:00:01\r\u001b[K     |██████████████████████████      | 2.1 MB 6.8 MB/s eta 0:00:01\r\u001b[K     |██████████████████████████▏     | 2.1 MB 6.8 MB/s eta 0:00:01\r\u001b[K     |██████████████████████████▎     | 2.1 MB 6.8 MB/s eta 0:00:01\r\u001b[K     |██████████████████████████▍     | 2.1 MB 6.8 MB/s eta 0:00:01\r\u001b[K     |██████████████████████████▌     | 2.2 MB 6.8 MB/s eta 0:00:01\r\u001b[K     |██████████████████████████▋     | 2.2 MB 6.8 MB/s eta 0:00:01\r\u001b[K     |██████████████████████████▊     | 2.2 MB 6.8 MB/s eta 0:00:01\r\u001b[K     |██████████████████████████▉     | 2.2 MB 6.8 MB/s eta 0:00:01\r\u001b[K     |███████████████████████████     | 2.2 MB 6.8 MB/s eta 0:00:01\r\u001b[K     |███████████████████████████▏    | 2.2 MB 6.8 MB/s eta 0:00:01\r\u001b[K     |███████████████████████████▎    | 2.2 MB 6.8 MB/s eta 0:00:01\r\u001b[K     |███████████████████████████▍    | 2.2 MB 6.8 MB/s eta 0:00:01\r\u001b[K     |███████████████████████████▌    | 2.2 MB 6.8 MB/s eta 0:00:01\r\u001b[K     |███████████████████████████▋    | 2.2 MB 6.8 MB/s eta 0:00:01\r\u001b[K     |███████████████████████████▊    | 2.3 MB 6.8 MB/s eta 0:00:01\r\u001b[K     |████████████████████████████    | 2.3 MB 6.8 MB/s eta 0:00:01\r\u001b[K     |████████████████████████████    | 2.3 MB 6.8 MB/s eta 0:00:01\r\u001b[K     |████████████████████████████▏   | 2.3 MB 6.8 MB/s eta 0:00:01\r\u001b[K     |████████████████████████████▎   | 2.3 MB 6.8 MB/s eta 0:00:01\r\u001b[K     |████████████████████████████▍   | 2.3 MB 6.8 MB/s eta 0:00:01\r\u001b[K     |████████████████████████████▌   | 2.3 MB 6.8 MB/s eta 0:00:01\r\u001b[K     |████████████████████████████▋   | 2.3 MB 6.8 MB/s eta 0:00:01\r\u001b[K     |████████████████████████████▉   | 2.3 MB 6.8 MB/s eta 0:00:01\r\u001b[K     |█████████████████████████████   | 2.3 MB 6.8 MB/s eta 0:00:01\r\u001b[K     |█████████████████████████████   | 2.4 MB 6.8 MB/s eta 0:00:01\r\u001b[K     |█████████████████████████████▏  | 2.4 MB 6.8 MB/s eta 0:00:01\r\u001b[K     |█████████████████████████████▎  | 2.4 MB 6.8 MB/s eta 0:00:01\r\u001b[K     |█████████████████████████████▍  | 2.4 MB 6.8 MB/s eta 0:00:01\r\u001b[K     |█████████████████████████████▌  | 2.4 MB 6.8 MB/s eta 0:00:01\r\u001b[K     |█████████████████████████████▋  | 2.4 MB 6.8 MB/s eta 0:00:01\r\u001b[K     |█████████████████████████████▉  | 2.4 MB 6.8 MB/s eta 0:00:01\r\u001b[K     |██████████████████████████████  | 2.4 MB 6.8 MB/s eta 0:00:01\r\u001b[K     |██████████████████████████████  | 2.4 MB 6.8 MB/s eta 0:00:01\r\u001b[K     |██████████████████████████████▏ | 2.4 MB 6.8 MB/s eta 0:00:01\r\u001b[K     |██████████████████████████████▎ | 2.5 MB 6.8 MB/s eta 0:00:01\r\u001b[K     |██████████████████████████████▍ | 2.5 MB 6.8 MB/s eta 0:00:01\r\u001b[K     |██████████████████████████████▌ | 2.5 MB 6.8 MB/s eta 0:00:01\r\u001b[K     |██████████████████████████████▊ | 2.5 MB 6.8 MB/s eta 0:00:01\r\u001b[K     |██████████████████████████████▉ | 2.5 MB 6.8 MB/s eta 0:00:01\r\u001b[K     |███████████████████████████████ | 2.5 MB 6.8 MB/s eta 0:00:01\r\u001b[K     |███████████████████████████████ | 2.5 MB 6.8 MB/s eta 0:00:01\r\u001b[K     |███████████████████████████████▏| 2.5 MB 6.8 MB/s eta 0:00:01\r\u001b[K     |███████████████████████████████▎| 2.5 MB 6.8 MB/s eta 0:00:01\r\u001b[K     |███████████████████████████████▍| 2.5 MB 6.8 MB/s eta 0:00:01\r\u001b[K     |███████████████████████████████▋| 2.6 MB 6.8 MB/s eta 0:00:01\r\u001b[K     |███████████████████████████████▊| 2.6 MB 6.8 MB/s eta 0:00:01\r\u001b[K     |███████████████████████████████▉| 2.6 MB 6.8 MB/s eta 0:00:01\r\u001b[K     |████████████████████████████████| 2.6 MB 6.8 MB/s eta 0:00:01\r\u001b[K     |████████████████████████████████| 2.6 MB 6.8 MB/s \n",
            "\u001b[?25h"
          ]
        }
      ]
    },
    {
      "cell_type": "code",
      "metadata": {
        "id": "MYjCosu9Xzfk"
      },
      "source": [
        "import pickle"
      ],
      "execution_count": null,
      "outputs": []
    },
    {
      "cell_type": "code",
      "metadata": {
        "id": "tzsPS1vkYN7M"
      },
      "source": [
        ""
      ],
      "execution_count": null,
      "outputs": []
    }
  ]
}